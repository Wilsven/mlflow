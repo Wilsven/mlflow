{
 "cells": [
  {
   "cell_type": "code",
   "execution_count": 1,
   "metadata": {},
   "outputs": [
    {
     "data": {
      "text/plain": [
       "'/Users/wilsvenleong/Downloads/learning-materials/mlflow/research'"
      ]
     },
     "execution_count": 1,
     "metadata": {},
     "output_type": "execute_result"
    }
   ],
   "source": [
    "import os\n",
    "\n",
    "%pwd"
   ]
  },
  {
   "cell_type": "code",
   "execution_count": 2,
   "metadata": {},
   "outputs": [
    {
     "data": {
      "text/plain": [
       "'/Users/wilsvenleong/Downloads/learning-materials/mlflow'"
      ]
     },
     "execution_count": 2,
     "metadata": {},
     "output_type": "execute_result"
    }
   ],
   "source": [
    "os.chdir(\"../\")  # Move up to root directory\n",
    "%pwd"
   ]
  },
  {
   "cell_type": "markdown",
   "metadata": {},
   "source": [
    "## 0. Set Environment Variables in `.env`"
   ]
  },
  {
   "cell_type": "code",
   "execution_count": 3,
   "metadata": {},
   "outputs": [],
   "source": [
    "from dotenv import load_dotenv\n",
    "\n",
    "\n",
    "load_dotenv()\n",
    "\n",
    "MLFLOW_TRACKING_URI = os.getenv(\"MLFLOW_TRACKING_URI\")\n",
    "MLFLOW_TRACKING_USERNAME = os.getenv(\"MLFLOW_TRACKING_USERNAME\")\n",
    "MLFLOW_TRACKING_PASSWORD = os.getenv(\"MLFLOW_TRACKING_PASSWORD\")"
   ]
  },
  {
   "cell_type": "markdown",
   "metadata": {},
   "source": [
    "## 1. Update `config.yaml`\n",
    "\n",
    "```yaml\n",
    "model_evaluation:\n",
    "  root_dir: artifacts/model_evaluation\n",
    "  test_data_path: artifacts/data_transformation/test.csv\n",
    "  model_path: artifacts/model_trainer/model.joblib\n",
    "  metrics_file_path: artifacts/model_evaluation/metrics.json\n",
    "```"
   ]
  },
  {
   "cell_type": "markdown",
   "metadata": {},
   "source": [
    "## 2. Update `schema.yaml`\n",
    "\n",
    "```yaml\n",
    "columns:\n",
    "  fixed acidity: float64\n",
    "  volatile acidity: float64\n",
    "  citric acid: float64\n",
    "  residual sugar: float64\n",
    "  chlorides: float64\n",
    "  free sulfur dioxide: float64\n",
    "  total sulfur dioxide: float64\n",
    "  density: float64\n",
    "  pH: float64\n",
    "  sulphates: float64\n",
    "  alcohol: float64\n",
    "  quality: int64\n",
    "\n",
    "target:\n",
    "  name: quality\n",
    "```"
   ]
  },
  {
   "cell_type": "markdown",
   "metadata": {},
   "source": [
    "## 4. Update the Entity"
   ]
  },
  {
   "cell_type": "code",
   "execution_count": 4,
   "metadata": {},
   "outputs": [],
   "source": [
    "from dataclasses import dataclass\n",
    "from pathlib import Path\n",
    "\n",
    "\n",
    "@dataclass(frozen=True)\n",
    "class ModelEvaluationConfig:\n",
    "    root_dir: Path\n",
    "    test_data_path: Path\n",
    "    model_path: Path\n",
    "    metrics_file_path: Path\n",
    "    alpha: float\n",
    "    l1_ratio: float\n",
    "    random_state: int\n",
    "    target_column: str\n",
    "    mlflow_uri: str"
   ]
  },
  {
   "cell_type": "markdown",
   "metadata": {},
   "source": [
    "## 5. Update the `ConfigurationManager` in `src/config/configuration.py`"
   ]
  },
  {
   "cell_type": "code",
   "execution_count": 5,
   "metadata": {},
   "outputs": [],
   "source": [
    "from mlflow_project.constants import *\n",
    "from mlflow_project.utils.common import read_yaml, create_directories\n",
    "\n",
    "from mlflow_project import logger\n",
    "\n",
    "\n",
    "class ConfigurationManager:\n",
    "    def __init__(\n",
    "        self,\n",
    "        config_file_path: Path = CONFIG_FILE_PATH,\n",
    "        params_file_path: Path = PARAMS_FILE_PATH,\n",
    "        schema_file_path: Path = SCHEMA_FILE_PATH,\n",
    "    ):\n",
    "        self.config = read_yaml(config_file_path)\n",
    "        self.params = read_yaml(params_file_path)\n",
    "        self.schema = read_yaml(schema_file_path)\n",
    "\n",
    "        create_directories([self.config.artifacts_root])\n",
    "\n",
    "    def get_model_evaluation_config(self) -> ModelEvaluationConfig:\n",
    "        \"\"\"\n",
    "        Creates the root directory and returns\n",
    "        the configuration for model evaluation.\n",
    "\n",
    "        Returns:\n",
    "            ModelEvaluationConfig: Configuration for model evaluation.\n",
    "        \"\"\"\n",
    "        model_evaluation = self.config.model_evaluation\n",
    "        target = self.schema.target\n",
    "\n",
    "        create_directories([model_evaluation.root_dir])\n",
    "\n",
    "        file_path = os.path.join(model_evaluation.root_dir, \".gitkeep\")\n",
    "        if not os.path.exists(file_path):\n",
    "            with open(file_path, \"w\") as f:\n",
    "                logger.info(\n",
    "                    f\"Creating file: .gitkeep in directory {model_evaluation.root_dir}\"\n",
    "                )\n",
    "                pass\n",
    "\n",
    "        model_evaluation_config = ModelEvaluationConfig(\n",
    "            root_dir=Path(model_evaluation.root_dir),\n",
    "            test_data_path=Path(model_evaluation.test_data_path),\n",
    "            model_path=Path(model_evaluation.model_path),\n",
    "            metrics_file_path=Path(model_evaluation.metrics_file_path),\n",
    "            alpha=float(self.params.ALPHA),\n",
    "            l1_ratio=float(self.params.L1_RATIO),\n",
    "            random_state=int(self.params.RANDOM_STATE),\n",
    "            target_column=str(target.name),\n",
    "            mlflow_uri=str(MLFLOW_TRACKING_URI),\n",
    "        )\n",
    "\n",
    "        return model_evaluation_config"
   ]
  },
  {
   "cell_type": "markdown",
   "metadata": {},
   "source": [
    "## 6. Update the Components"
   ]
  },
  {
   "cell_type": "code",
   "execution_count": 6,
   "metadata": {},
   "outputs": [],
   "source": [
    "from typing import Union\n",
    "from urllib.parse import urlparse\n",
    "\n",
    "import joblib\n",
    "import numpy as np\n",
    "import pandas as pd\n",
    "from sklearn.metrics import mean_absolute_error, mean_squared_error, r2_score\n",
    "\n",
    "import mlflow\n",
    "import mlflow.sklearn\n",
    "\n",
    "from mlflow_project.utils.common import save_json\n",
    "\n",
    "\n",
    "class ModelEvaluation:\n",
    "    def __init__(self, config: ModelEvaluationConfig):\n",
    "        self.config = config\n",
    "\n",
    "    def eval_metrics(\n",
    "        self,\n",
    "        actual: Union[np.ndarray, pd.DataFrame],\n",
    "        pred: Union[np.ndarray, pd.DataFrame],\n",
    "    ) -> tuple[float]:\n",
    "        \"\"\"Calculates evaluation metrics.\n",
    "\n",
    "        Args:\n",
    "            actual (Union[np.ndarray, pd.DataFrame]): Actual results.\n",
    "            pred (Union[np.ndarray, pd.DataFrame]): Predicted results.\n",
    "\n",
    "        Returns:\n",
    "            tuple(float): The evaluation metrics (i.e. RMSE, MAE and R2) as a tuple of floats.\n",
    "        \"\"\"\n",
    "        rmse = np.sqrt(mean_squared_error(actual, pred))\n",
    "        mae = mean_absolute_error(actual, pred)\n",
    "        r2 = r2_score(actual, pred)\n",
    "\n",
    "        return rmse, mae, r2\n",
    "\n",
    "    def log_into_mlflow(self) -> None:\n",
    "        \"\"\"MLFlow for experiment tracking.\"\"\"\n",
    "        # Load the test set\n",
    "        test_data = pd.read_csv(self.config.test_data_path)\n",
    "        # Split the test set into independent and dependent features\n",
    "        test_x = test_data.drop([self.config.target_column], axis=1)\n",
    "        test_y = test_data[[self.config.target_column]]\n",
    "\n",
    "        # Load the pre-trained model\n",
    "        model = joblib.load(self.config.model_path)\n",
    "\n",
    "        mlflow.set_registry_uri(self.config.mlflow_uri)\n",
    "        tracking_url_type_store = urlparse(mlflow.get_tracking_uri()).scheme\n",
    "\n",
    "        with mlflow.start_run():\n",
    "            # Predictions\n",
    "            pred_y = model.predict(test_x)\n",
    "            # Evaluate metrics\n",
    "            rmse, mae, r2 = self.eval_metrics(test_y, pred_y)\n",
    "\n",
    "            # Saving metrics locally\n",
    "            scores = {\"rmse\": rmse, \"mae\": mae, \"r2\": r2}\n",
    "            save_json(path=Path(self.config.metrics_file_path), data=scores)\n",
    "\n",
    "            params = {\n",
    "                \"alpha\": self.config.alpha,\n",
    "                \"l1_ratio\": self.config.l1_ratio,\n",
    "                \"random_state\": self.config.random_state,\n",
    "            }\n",
    "            # Log hyperparameters\n",
    "            mlflow.log_params(params)\n",
    "\n",
    "            # Log metrics\n",
    "            mlflow.log_metric(\"rmse\", rmse)\n",
    "            mlflow.log_metric(\"mae\", mae)\n",
    "            mlflow.log_metric(\"r2\", r2)\n",
    "\n",
    "            # Model registry does not work with file store\n",
    "            if tracking_url_type_store != \"file\":\n",
    "                # Register the model\n",
    "                # There are other ways to use the Model Registry, which depends on the use case,\n",
    "                # Please refer to the documentation for more information:\n",
    "                # https://mlflow.org/docs/latest/model-registry.html#api-workflow\n",
    "                mlflow.sklearn.log_model(\n",
    "                    model, \"model\", registered_model_name=\"ElasticNetModel\"\n",
    "                )\n",
    "            else:\n",
    "                mlflow.sklearn.log_model(model, \"model\")"
   ]
  },
  {
   "cell_type": "markdown",
   "metadata": {},
   "source": [
    "## 7. Update the Pipeline"
   ]
  },
  {
   "cell_type": "code",
   "execution_count": 7,
   "metadata": {},
   "outputs": [
    {
     "name": "stdout",
     "output_type": "stream",
     "text": [
      "[ 2023-10-25 20:33:40,770 ] 33 common mlflow_project -  INFO - Loaded YAML file successfully from: config/config.yaml\n",
      "[ 2023-10-25 20:33:40,774 ] 33 common mlflow_project -  INFO - Loaded YAML file successfully from: params.yaml\n",
      "[ 2023-10-25 20:33:40,776 ] 33 common mlflow_project -  INFO - Loaded YAML file successfully from: schema.yaml\n",
      "[ 2023-10-25 20:33:40,777 ] 53 common mlflow_project -  INFO - Created directory at: artifacts\n",
      "[ 2023-10-25 20:33:40,778 ] 53 common mlflow_project -  INFO - Created directory at: artifacts/model_evaluation\n",
      "[ 2023-10-25 20:33:40,778 ] 36 3972561000 mlflow_project -  INFO - Creating file: .gitkeep in directory artifacts/model_evaluation\n",
      "[ 2023-10-25 20:33:51,881 ] 67 common mlflow_project -  INFO - JSON file saved at: artifacts/model_evaluation/metrics.json\n"
     ]
    },
    {
     "name": "stderr",
     "output_type": "stream",
     "text": [
      "Successfully registered model 'ElasticNetModel'.\n",
      "2023/10/25 20:34:07 INFO mlflow.tracking._model_registry.client: Waiting up to 300 seconds for model version to finish creation. Model name: ElasticNetModel, version 1\n",
      "Created version '1' of model 'ElasticNetModel'.\n"
     ]
    }
   ],
   "source": [
    "try:\n",
    "    config_manager = ConfigurationManager()\n",
    "    model_evaluation_config = config_manager.get_model_evaluation_config()\n",
    "    model_evaluation = ModelEvaluation(config=model_evaluation_config)\n",
    "    model_evaluation.log_into_mlflow()\n",
    "except Exception as e:\n",
    "    logger.exception(e)\n",
    "    raise e"
   ]
  },
  {
   "cell_type": "code",
   "execution_count": null,
   "metadata": {},
   "outputs": [],
   "source": []
  }
 ],
 "metadata": {
  "kernelspec": {
   "display_name": "mlflow",
   "language": "python",
   "name": "python3"
  },
  "language_info": {
   "codemirror_mode": {
    "name": "ipython",
    "version": 3
   },
   "file_extension": ".py",
   "mimetype": "text/x-python",
   "name": "python",
   "nbconvert_exporter": "python",
   "pygments_lexer": "ipython3",
   "version": "3.11.5"
  }
 },
 "nbformat": 4,
 "nbformat_minor": 2
}
