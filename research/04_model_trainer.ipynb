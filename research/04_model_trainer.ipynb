{
 "cells": [
  {
   "cell_type": "code",
   "execution_count": 1,
   "metadata": {},
   "outputs": [
    {
     "data": {
      "text/plain": [
       "'/Users/wilsvenleong/Downloads/learning-materials/mlflow/research'"
      ]
     },
     "execution_count": 1,
     "metadata": {},
     "output_type": "execute_result"
    }
   ],
   "source": [
    "import os\n",
    "\n",
    "%pwd"
   ]
  },
  {
   "cell_type": "code",
   "execution_count": 2,
   "metadata": {},
   "outputs": [
    {
     "data": {
      "text/plain": [
       "'/Users/wilsvenleong/Downloads/learning-materials/mlflow'"
      ]
     },
     "execution_count": 2,
     "metadata": {},
     "output_type": "execute_result"
    }
   ],
   "source": [
    "os.chdir(\"../\")  # Move up to root directory\n",
    "%pwd"
   ]
  },
  {
   "cell_type": "markdown",
   "metadata": {},
   "source": [
    "## 1. Update `config.yaml`\n",
    "\n",
    "```yaml\n",
    "model_trainer:\n",
    "  root_dir: artifacts/model_trainer\n",
    "  train_data_path: artifacts/data_transformation/train.csv\n",
    "  test_data_path: artifacts/data_transformation/test.csv\n",
    "  model_name: model.joblib\n",
    "```"
   ]
  },
  {
   "cell_type": "markdown",
   "metadata": {},
   "source": [
    "## 3. Update `params.yaml`\n",
    "\n",
    "```yaml\n",
    "ALPHA: 0.5\n",
    "L1_RATIO: 0.7\n",
    "RANDOM_STATE: 42\n",
    "```"
   ]
  },
  {
   "cell_type": "markdown",
   "metadata": {},
   "source": [
    "## 4. Update the Entity"
   ]
  },
  {
   "cell_type": "code",
   "execution_count": 3,
   "metadata": {},
   "outputs": [],
   "source": [
    "from dataclasses import dataclass\n",
    "from pathlib import Path\n",
    "\n",
    "\n",
    "@dataclass(frozen=True)\n",
    "class ModelTrainerConfig:\n",
    "    root_dir: Path\n",
    "    train_data_path: Path\n",
    "    test_data_path: Path\n",
    "    model_name: str\n",
    "    alpha: float\n",
    "    l1_ratio: float\n",
    "    random_state: int\n",
    "    target_column: str"
   ]
  },
  {
   "cell_type": "markdown",
   "metadata": {},
   "source": [
    "## 5. Update the `ConfigurationManager` in `src/config/configuration.py`"
   ]
  },
  {
   "cell_type": "code",
   "execution_count": 4,
   "metadata": {},
   "outputs": [],
   "source": [
    "from mlflow_project.constants import *\n",
    "from mlflow_project.utils.common import read_yaml, create_directories\n",
    "\n",
    "from mlflow_project import logger\n",
    "\n",
    "\n",
    "class ConfigurationManager:\n",
    "    def __init__(\n",
    "        self,\n",
    "        config_file_path: Path = CONFIG_FILE_PATH,\n",
    "        params_file_path: Path = PARAMS_FILE_PATH,\n",
    "        schema_file_path: Path = SCHEMA_FILE_PATH,\n",
    "    ):\n",
    "        self.config = read_yaml(config_file_path)\n",
    "        self.params = read_yaml(params_file_path)\n",
    "        self.schema = read_yaml(schema_file_path)\n",
    "\n",
    "        create_directories([self.config.artifacts_root])\n",
    "\n",
    "    def get_model_trainer_config(self) -> ModelTrainerConfig:\n",
    "        \"\"\"\n",
    "        Creates the root directory and returns\n",
    "        the configuration for model trainer.\n",
    "\n",
    "        Returns:\n",
    "            ModelTrainerConfig: Configuration for model trainer.\n",
    "        \"\"\"\n",
    "        model_trainer = self.config.model_trainer\n",
    "        target = self.schema.target\n",
    "\n",
    "        create_directories([model_trainer.root_dir])\n",
    "\n",
    "        file_path = os.path.join(model_trainer.root_dir, \".gitkeep\")\n",
    "        if not os.path.exists(file_path):\n",
    "            with open(file_path, \"w\") as f:\n",
    "                logger.info(\n",
    "                    f\"Creating file: .gitkeep in directory {model_trainer.root_dir}\"\n",
    "                )\n",
    "                pass\n",
    "\n",
    "        model_trainer_config = ModelTrainerConfig(\n",
    "            root_dir=Path(model_trainer.root_dir),\n",
    "            train_data_path=Path(model_trainer.train_data_path),\n",
    "            test_data_path=Path(model_trainer.test_data_path),\n",
    "            model_name=str(model_trainer.model_name),\n",
    "            alpha=float(self.params.ALPHA),\n",
    "            l1_ratio=float(self.params.L1_RATIO),\n",
    "            random_state=int(self.params.RANDOM_STATE),\n",
    "            target_column=str(target.name),\n",
    "        )\n",
    "\n",
    "        return model_trainer_config"
   ]
  },
  {
   "cell_type": "markdown",
   "metadata": {},
   "source": [
    "## 6. Update the Components"
   ]
  },
  {
   "cell_type": "code",
   "execution_count": 5,
   "metadata": {},
   "outputs": [],
   "source": [
    "import os\n",
    "import pandas as pd\n",
    "from sklearn.linear_model import ElasticNet\n",
    "import joblib\n",
    "\n",
    "\n",
    "class ModelTrainer:\n",
    "    def __init__(self, config: ModelTrainerConfig):\n",
    "        self.config = config\n",
    "\n",
    "    def train(self) -> None:\n",
    "        \"\"\"Trains the model.\"\"\"\n",
    "        train_data = pd.read_csv(self.config.train_data_path)\n",
    "\n",
    "        train_x = train_data.drop([self.config.target_column], axis=1)\n",
    "        train_y = train_data[[self.config.target_column]]\n",
    "\n",
    "        elastic_net = ElasticNet(\n",
    "            alpha=self.config.alpha,\n",
    "            l1_ratio=self.config.l1_ratio,\n",
    "            random_state=self.config.random_state,\n",
    "        )\n",
    "        elastic_net.fit(train_x, train_y)\n",
    "\n",
    "        joblib.dump(\n",
    "            elastic_net, os.path.join(self.config.root_dir, self.config.model_name)\n",
    "        )"
   ]
  },
  {
   "cell_type": "markdown",
   "metadata": {},
   "source": [
    "## 7. Update the Pipeline"
   ]
  },
  {
   "cell_type": "code",
   "execution_count": 6,
   "metadata": {},
   "outputs": [
    {
     "name": "stdout",
     "output_type": "stream",
     "text": [
      "[ 2023-10-25 00:10:29,710 ] 33 common mlflow_project -  INFO - Loaded YAML file successfully from: config/config.yaml\n",
      "[ 2023-10-25 00:10:29,714 ] 33 common mlflow_project -  INFO - Loaded YAML file successfully from: params.yaml\n",
      "[ 2023-10-25 00:10:29,717 ] 33 common mlflow_project -  INFO - Loaded YAML file successfully from: schema.yaml\n",
      "[ 2023-10-25 00:10:29,719 ] 53 common mlflow_project -  INFO - Created directory at: artifacts\n",
      "[ 2023-10-25 00:10:29,721 ] 53 common mlflow_project -  INFO - Created directory at: artifacts/model_trainer\n",
      "[ 2023-10-25 00:10:29,723 ] 36 1994247948 mlflow_project -  INFO - Creating file: .gitkeep in directory artifacts/model_trainer\n"
     ]
    }
   ],
   "source": [
    "try:\n",
    "    config_manager = ConfigurationManager()\n",
    "    model_trainer_config = config_manager.get_model_trainer_config()\n",
    "    model_trainer = ModelTrainer(config=model_trainer_config)\n",
    "    model_trainer.train()\n",
    "except Exception as e:\n",
    "    logger.exception(e)\n",
    "    raise e"
   ]
  },
  {
   "cell_type": "code",
   "execution_count": null,
   "metadata": {},
   "outputs": [],
   "source": []
  }
 ],
 "metadata": {
  "kernelspec": {
   "display_name": "mlflow",
   "language": "python",
   "name": "python3"
  },
  "language_info": {
   "codemirror_mode": {
    "name": "ipython",
    "version": 3
   },
   "file_extension": ".py",
   "mimetype": "text/x-python",
   "name": "python",
   "nbconvert_exporter": "python",
   "pygments_lexer": "ipython3",
   "version": "3.11.5"
  }
 },
 "nbformat": 4,
 "nbformat_minor": 2
}
