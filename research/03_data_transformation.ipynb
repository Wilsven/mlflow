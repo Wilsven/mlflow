{
 "cells": [
  {
   "cell_type": "code",
   "execution_count": 1,
   "metadata": {},
   "outputs": [
    {
     "data": {
      "text/plain": [
       "'/Users/wilsvenleong/Downloads/learning-materials/mlflow/research'"
      ]
     },
     "execution_count": 1,
     "metadata": {},
     "output_type": "execute_result"
    }
   ],
   "source": [
    "import os\n",
    "\n",
    "%pwd"
   ]
  },
  {
   "cell_type": "code",
   "execution_count": 2,
   "metadata": {},
   "outputs": [
    {
     "data": {
      "text/plain": [
       "'/Users/wilsvenleong/Downloads/learning-materials/mlflow'"
      ]
     },
     "execution_count": 2,
     "metadata": {},
     "output_type": "execute_result"
    }
   ],
   "source": [
    "os.chdir(\"../\")  # Move up to root directory\n",
    "%pwd"
   ]
  },
  {
   "cell_type": "markdown",
   "metadata": {},
   "source": [
    "## 1. Update `config.yaml`\n",
    "\n",
    "```yaml\n",
    "data_transformation:\n",
    "  root_dir: artifacts/data_transformation\n",
    "  unzip_data_path: artifacts/data_ingestion/winequality-red.csv\n",
    "```"
   ]
  },
  {
   "cell_type": "markdown",
   "metadata": {},
   "source": [
    "## 4. Update the Entity"
   ]
  },
  {
   "cell_type": "code",
   "execution_count": 3,
   "metadata": {},
   "outputs": [],
   "source": [
    "from dataclasses import dataclass\n",
    "from pathlib import Path\n",
    "\n",
    "\n",
    "@dataclass(frozen=True)\n",
    "class DataTransformationConfig:\n",
    "    root_dir: Path\n",
    "    unzip_data_path: Path"
   ]
  },
  {
   "cell_type": "markdown",
   "metadata": {},
   "source": [
    "## 5. Update the `ConfigurationManager` in `src/config/configuration.py`"
   ]
  },
  {
   "cell_type": "code",
   "execution_count": 4,
   "metadata": {},
   "outputs": [],
   "source": [
    "from mlflow_project.constants import *\n",
    "from mlflow_project.utils.common import read_yaml, create_directories\n",
    "\n",
    "from mlflow_project import logger\n",
    "\n",
    "\n",
    "class ConfigurationManager:\n",
    "    def __init__(\n",
    "        self,\n",
    "        config_file_path: Path = CONFIG_FILE_PATH,\n",
    "        params_file_path: Path = PARAMS_FILE_PATH,\n",
    "        schema_file_path: Path = SCHEMA_FILE_PATH,\n",
    "    ):\n",
    "        self.config = read_yaml(config_file_path)\n",
    "        self.params = read_yaml(params_file_path)\n",
    "        self.schema = read_yaml(schema_file_path)\n",
    "\n",
    "        create_directories([self.config.artifacts_root])\n",
    "\n",
    "    def get_data_transformation_config(self) -> DataTransformationConfig:\n",
    "        \"\"\"\n",
    "        Creates the root directory and returns\n",
    "        the configuration for data transformation.\n",
    "\n",
    "        Returns:\n",
    "            DataTransformationConfig: Configuration for data transformation.\n",
    "        \"\"\"\n",
    "        data_transformation = self.config.data_transformation\n",
    "\n",
    "        create_directories([data_transformation.root_dir])\n",
    "\n",
    "        file_path = os.path.join(data_transformation.root_dir, \".gitkeep\")\n",
    "        if not os.path.exists(file_path):\n",
    "            with open(file_path, \"w\") as f:\n",
    "                logger.info(\n",
    "                    f\"Creating file: .gitkeep in directory {data_transformation.root_dir}\"\n",
    "                )\n",
    "                pass\n",
    "\n",
    "        data_transformation_config = DataTransformationConfig(\n",
    "            root_dir=Path(data_transformation.root_dir),\n",
    "            unzip_data_path=Path(data_transformation.unzip_data_path),\n",
    "        )\n",
    "\n",
    "        return data_transformation_config"
   ]
  },
  {
   "cell_type": "markdown",
   "metadata": {},
   "source": [
    "## 6. Update the Components"
   ]
  },
  {
   "cell_type": "code",
   "execution_count": 5,
   "metadata": {},
   "outputs": [],
   "source": [
    "import os\n",
    "import pandas as pd\n",
    "from sklearn.model_selection import train_test_split\n",
    "\n",
    "\n",
    "class DataTransformation:\n",
    "    def __init__(self, config: DataTransformationConfig):\n",
    "        self.config = config\n",
    "\n",
    "    # Different data transformation techniques such can be applied\n",
    "    # Differrent kinds of EDA in the ML cycle can be performed here before passing the data to the model\n",
    "    # Only `train_test_split` will be used here because this is a project focusing on MLOps\n",
    "    def train_test_split(self) -> None:\n",
    "        \"\"\"Splits the data into train and test sets.\"\"\"\n",
    "        df = pd.read_csv(self.config.unzip_data_path)\n",
    "\n",
    "        # Split the data into train and test sets -> 3 to 1 split\n",
    "        train, test = train_test_split(df, train_size=0.75)\n",
    "        logger.info(\"Successfully split data into train and test sets\")\n",
    "\n",
    "        train.to_csv(os.path.join(self.config.root_dir, \"train.csv\"), index=False)\n",
    "        test.to_csv(os.path.join(self.config.root_dir, \"test.csv\"), index=False)\n",
    "\n",
    "        logger.info(f\"Successfully saved the train set with shape: {train.shape}\")\n",
    "        logger.info(f\"Successfully saved the test set with shape: {test.shape}\")"
   ]
  },
  {
   "cell_type": "markdown",
   "metadata": {},
   "source": [
    "## 7. Update the Pipeline"
   ]
  },
  {
   "cell_type": "code",
   "execution_count": 6,
   "metadata": {},
   "outputs": [
    {
     "name": "stdout",
     "output_type": "stream",
     "text": [
      "[ 2023-10-24 22:24:00,970 ] 33 common mlflow_project -  INFO - Loaded YAML file successfully from: config/config.yaml\n",
      "[ 2023-10-24 22:24:00,974 ] 33 common mlflow_project -  INFO - Loaded YAML file successfully from: params.yaml\n",
      "[ 2023-10-24 22:24:00,976 ] 33 common mlflow_project -  INFO - Loaded YAML file successfully from: schema.yaml\n",
      "[ 2023-10-24 22:24:00,977 ] 53 common mlflow_project -  INFO - Created directory at: artifacts\n",
      "[ 2023-10-24 22:24:00,977 ] 53 common mlflow_project -  INFO - Created directory at: artifacts/data_transformation\n",
      "[ 2023-10-24 22:24:01,002 ] 21 1941872955 mlflow_project -  INFO - Successfully split data into train and test sets\n",
      "[ 2023-10-24 22:24:01,030 ] 26 1941872955 mlflow_project -  INFO - Successfully saved the train set with shape: (1199, 12)\n",
      "[ 2023-10-24 22:24:01,030 ] 27 1941872955 mlflow_project -  INFO - Successfully saved the test set with shape: (400, 12)\n"
     ]
    }
   ],
   "source": [
    "try:\n",
    "    config_manager = ConfigurationManager()\n",
    "    data_transformation_config = config_manager.get_data_transformation_config()\n",
    "    data_transformation = DataTransformation(config=data_transformation_config)\n",
    "    data_transformation.train_test_split()\n",
    "except Exception as e:\n",
    "    raise e"
   ]
  },
  {
   "cell_type": "code",
   "execution_count": null,
   "metadata": {},
   "outputs": [],
   "source": []
  }
 ],
 "metadata": {
  "kernelspec": {
   "display_name": "mlflow",
   "language": "python",
   "name": "python3"
  },
  "language_info": {
   "codemirror_mode": {
    "name": "ipython",
    "version": 3
   },
   "file_extension": ".py",
   "mimetype": "text/x-python",
   "name": "python",
   "nbconvert_exporter": "python",
   "pygments_lexer": "ipython3",
   "version": "3.11.5"
  }
 },
 "nbformat": 4,
 "nbformat_minor": 2
}
